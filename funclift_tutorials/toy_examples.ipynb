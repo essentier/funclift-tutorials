{
 "cells": [
  {
   "cell_type": "markdown",
   "metadata": {},
   "source": [
    "## Why funclift\n",
    "\n",
    "funclift is a Python library that provides functors, applicatives, monads, profunctors, free monads and many other functional programming constructs for composing synchronous as well as asynchronous functions.\n",
    "\n",
    "This tutorial will use toy examples to walk you through the various features of funclift for the ease of learning. For practical usages of funclift, please refer to other examples in this git repository.\n",
    "\n",
    "## function composition\n",
    "\n",
    "Before we dive into the details, it's helpful to point out that all these various constructs such as functors, applicatives and monads serve a common purpose: function composition. As you go through this tutorial, if you find yourself asking why a specific feature is useful, then the answer will mostly likely be related to the composition of certain types of functions.\n",
    "\n",
    "## pure functions\n",
    "\n",
    "There are pure and impure functions. Pure functions are like mathematical functions. They are total functions that always map the same input to the same output with no side effects. Here's an example of a pure function in Python:"
   ]
  },
  {
   "cell_type": "code",
   "execution_count": null,
   "metadata": {},
   "outputs": [],
   "source": [
    "def foo(b: bool) -> int:\n",
    "    return (2 if b else 3)"
   ]
  },
  {
   "cell_type": "markdown",
   "metadata": {},
   "source": [
    "The function takes a boolean value as input. It's a total function because it's defined for all possible values of the `bool` type. If the input is True, it will always return 2. If the input is False, it will always return 3. So for the same input, it will always return the same output. Moreover, the function incurs no side effects such as performing network IO, mutating external states or throwing exceptions.\n",
    "\n",
    "## Composing pure functions\n",
    "\n",
    "Pure functions are easy to compose. Here's an example. Suppose we have another pure function `bar` like this:"
   ]
  },
  {
   "cell_type": "code",
   "execution_count": null,
   "metadata": {},
   "outputs": [],
   "source": [
    "def bar(n: int) -> str:\n",
    "    return 'h' * n"
   ]
  },
  {
   "cell_type": "markdown",
   "metadata": {},
   "source": [
    "Because the output type of foo matches the input type of bar, we can compose the two functions like this:"
   ]
  },
  {
   "cell_type": "code",
   "execution_count": null,
   "metadata": {},
   "outputs": [],
   "source": [
    "def foo_then_bar(b: bool) -> str:\n",
    "    return bar(foo(b))"
   ]
  },
  {
   "cell_type": "markdown",
   "metadata": {},
   "source": [
    "## impure functions\n",
    "\n",
    "Okay, we just saw how straightforward it is to compose pure functions. How about impure functions? Here's an impure function in Python:"
   ]
  },
  {
   "cell_type": "code",
   "execution_count": null,
   "metadata": {},
   "outputs": [],
   "source": [
    "def ten_mod_by(n: int) -> int:\n",
    "    return 10 % n"
   ]
  },
  {
   "cell_type": "markdown",
   "metadata": {},
   "source": [
    "The function is impure because it's not defined when the input is zero. If you pass zero as input to the function, it will throw ZeroDivisionError. So what should we do? Well we need to turn it into a pure function. To that end, one might be attempted to rewrite the function to something like this:"
   ]
  },
  {
   "cell_type": "code",
   "execution_count": null,
   "metadata": {},
   "outputs": [],
   "source": [
    "def ten_mod_by(n: int) -> int | None:\n",
    "    if n == 0:\n",
    "        return None\n",
    "    \n",
    "    return 10 % n"
   ]
  },
  {
   "cell_type": "markdown",
   "metadata": {},
   "source": [
    "The function indeed is a pure one since it's now defined for all inputs including zero. However, there's a critical issue with the function: it's not very composable with other functions. For example, suppose we have another function like this:"
   ]
  },
  {
   "cell_type": "code",
   "execution_count": null,
   "metadata": {},
   "outputs": [],
   "source": [
    "def remainder_in_text(r: int) -> str:\n",
    "    return 'remainder is ' + str(r)"
   ]
  },
  {
   "cell_type": "markdown",
   "metadata": {},
   "source": [
    "Here's how it looks to compose `ten_mod_by` with `remainder_in_text`:"
   ]
  },
  {
   "cell_type": "code",
   "execution_count": null,
   "metadata": {},
   "outputs": [],
   "source": [
    "def ten_mod_by_in_text(x: int) -> str | None:\n",
    "    r = ten_mod_by(x)\n",
    "    if r:\n",
    "        return remainder_in_text(r)\n",
    "    else:\n",
    "        return None"
   ]
  },
  {
   "cell_type": "markdown",
   "metadata": {},
   "source": [
    "The if-else statement in the code snippet above might not seem too bad. However, if we need to compose several of the similar functions together in this fashion, we will end up with deeply nested if-ease branches that are not so pleasant to read.\n",
    "\n",
    "The solution for turning an impure partial function into a total function while retaining good composability is the Option class in funclift. Here's how we use it to rewrite the `ten_mod_by` function:"
   ]
  },
  {
   "cell_type": "code",
   "execution_count": null,
   "metadata": {},
   "outputs": [],
   "source": [
    "from funclift.types.option import Option, Nothing, Some\n",
    "\n",
    "def ten_mod_by(n: int) -> Option[int]:\n",
    "    if n == 0:\n",
    "        return Nothing()\n",
    "    \n",
    "    return Some(10 % n)"
   ]
  },
  {
   "cell_type": "markdown",
   "metadata": {},
   "source": [
    "The function returns Nothing() if the input is zero. Otherwise, it returns the result wrapped in an instance of the Some class. Both `Nothing` and `Some` are subclasses of the `Option` class.\n",
    "\n",
    "Here's how we compose the new `ten_mod_by` function with the `remainder_in_text` function:"
   ]
  },
  {
   "cell_type": "code",
   "execution_count": null,
   "metadata": {},
   "outputs": [],
   "source": [
    "def ten_mod_by_in_text(x: int) -> Option[str]:\n",
    "    r = ten_mod_by(x)\n",
    "    return r.fmap(remainder_in_text)"
   ]
  }
 ],
 "metadata": {
  "kernelspec": {
   "display_name": "funclift-tutorials-rElTN8rY-py3.11",
   "language": "python",
   "name": "python3"
  },
  "language_info": {
   "name": "python",
   "version": "3.11.2"
  },
  "orig_nbformat": 4
 },
 "nbformat": 4,
 "nbformat_minor": 2
}
